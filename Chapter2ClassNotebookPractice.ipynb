{
 "cells": [
  {
   "cell_type": "code",
   "execution_count": 1,
   "id": "50568e09",
   "metadata": {},
   "outputs": [
    {
     "name": "stdout",
     "output_type": "stream",
     "text": [
      "6\n"
     ]
    }
   ],
   "source": [
    "a=3\n",
    "b=a*2\n",
    "print(b) "
   ]
  },
  {
   "cell_type": "code",
   "execution_count": 2,
   "id": "cb958e6b",
   "metadata": {},
   "outputs": [
    {
     "name": "stdout",
     "output_type": "stream",
     "text": [
      "11\n"
     ]
    }
   ],
   "source": [
    "c=5\n",
    "d=6\n",
    "print(c+d)"
   ]
  },
  {
   "cell_type": "code",
   "execution_count": 3,
   "id": "cb11e65f",
   "metadata": {},
   "outputs": [
    {
     "name": "stdout",
     "output_type": "stream",
     "text": [
      "Hello class welcome to CS150\n"
     ]
    }
   ],
   "source": [
    "print(\"Hello class welcome to CS150\")"
   ]
  },
  {
   "cell_type": "markdown",
   "id": "9379cd52",
   "metadata": {},
   "source": [
    "# Heading1"
   ]
  },
  {
   "cell_type": "markdown",
   "id": "8ae4ca1f",
   "metadata": {},
   "source": [
    "## Heading2"
   ]
  },
  {
   "cell_type": "markdown",
   "id": "6422a018",
   "metadata": {},
   "source": [
    "### Heading3"
   ]
  },
  {
   "cell_type": "markdown",
   "id": "1fe94ab2",
   "metadata": {},
   "source": [
    "#### Heading 4"
   ]
  },
  {
   "cell_type": "markdown",
   "id": "7a374c49",
   "metadata": {},
   "source": [
    "##### Heading5"
   ]
  },
  {
   "cell_type": "markdown",
   "id": "1b6874f0",
   "metadata": {},
   "source": [
    "###### Heading6"
   ]
  },
  {
   "cell_type": "markdown",
   "id": "863369ef",
   "metadata": {},
   "source": [
    ">This is a good day"
   ]
  },
  {
   "cell_type": "markdown",
   "id": "95fc77e0",
   "metadata": {},
   "source": [
    "* List1\n",
    "* List2"
   ]
  },
  {
   "cell_type": "markdown",
   "id": "74157e54",
   "metadata": {},
   "source": [
    "1. Ordered list1\n",
    "2. Ordered list2"
   ]
  },
  {
   "cell_type": "markdown",
   "id": "83909fe1",
   "metadata": {},
   "source": [
    "**These are bold words**"
   ]
  },
  {
   "cell_type": "markdown",
   "id": "fe4a0cb6",
   "metadata": {},
   "source": [
    "*These are italicized words*"
   ]
  },
  {
   "cell_type": "markdown",
   "id": "135b692f",
   "metadata": {},
   "source": [
    "`Here is a code for printing statements!'"
   ]
  },
  {
   "cell_type": "markdown",
   "id": "40cfd41b",
   "metadata": {},
   "source": [
    "<a href=\"https://www.google.com/\">thislink</a>"
   ]
  },
  {
   "cell_type": "markdown",
   "id": "5285e0c3",
   "metadata": {},
   "source": [
    "![Cat Image](https://upload.wikimedia.org/wikipedia/commons/3/3a/Cat03.jpg)"
   ]
  },
  {
   "cell_type": "code",
   "execution_count": null,
   "id": "c87f7aef",
   "metadata": {},
   "outputs": [],
   "source": []
  }
 ],
 "metadata": {
  "kernelspec": {
   "display_name": "Python 3 (ipykernel)",
   "language": "python",
   "name": "python3"
  },
  "language_info": {
   "codemirror_mode": {
    "name": "ipython",
    "version": 3
   },
   "file_extension": ".py",
   "mimetype": "text/x-python",
   "name": "python",
   "nbconvert_exporter": "python",
   "pygments_lexer": "ipython3",
   "version": "3.9.12"
  }
 },
 "nbformat": 4,
 "nbformat_minor": 5
}
